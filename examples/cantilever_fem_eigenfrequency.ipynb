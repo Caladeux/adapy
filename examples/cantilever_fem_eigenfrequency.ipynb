{
 "cells": [
  {
   "cell_type": "code",
   "execution_count": 1,
   "metadata": {},
   "outputs": [],
   "source": [
    "import h5py\n",
    "import numpy as np\n",
    "\n",
    "from ada import Assembly, Beam, Material, Part\n",
    "from ada.fem import Bc, FemSet, Step\n",
    "from ada.fem.mesh.gmshapiv2 import GmshSession, GmshOptions\n",
    "from ada.fem.utils import get_beam_end_nodes\n",
    "from ada.materials.metals import CarbonSteel\n",
    "\n",
    "from ada.visualize.femviz import visualize_it"
   ]
  },
  {
   "cell_type": "code",
   "execution_count": 2,
   "metadata": {
    "pycharm": {
     "name": "#%%\n"
    }
   },
   "outputs": [
    {
     "data": {
      "application/vnd.jupyter.widget-view+json": {
       "model_id": "4c886d9d6a2f42688215c0f07ae51e47",
       "version_major": 2,
       "version_minor": 0
      },
      "text/plain": [
       "HBox(children=(VBox(children=(HBox(children=(Button(description='Geom', layout=Layout(height='auto', width='au…"
      ]
     },
     "metadata": {},
     "output_type": "display_data"
    },
    {
     "data": {
      "text/html": [],
      "text/plain": [
       "Beam(\"MyBeam\", [0.0, 0.5, 0.5], [5.0, 0.5, 0.5], IPE400, S420)"
      ]
     },
     "execution_count": 2,
     "metadata": {},
     "output_type": "execute_result"
    }
   ],
   "source": [
    "def fundamental_eigenfrequency(bm: Beam):\n",
    "    L = bm.length\n",
    "    E = bm.material.model.E\n",
    "    rho = bm.material.model.rho\n",
    "    I = bm.section.properties.Iy\n",
    "    return (1 / (2 * np.pi)) * (3.5156 / L ** 2) * np.sqrt(E * I / rho)\n",
    "\n",
    "\n",
    "bm = Beam(\"MyBeam\", (0, 0.5, 0.5), (5, 0.5, 0.5), \"IPE400\", Material(\"S420\", CarbonSteel(\"S420\")))\n",
    "bm"
   ]
  },
  {
   "cell_type": "code",
   "execution_count": 3,
   "metadata": {
    "pycharm": {
     "name": "#%%\n"
    }
   },
   "outputs": [
    {
     "name": "stdout",
     "output_type": "stream",
     "text": [
      "1: 2.0565050317553615\n",
      "2: 12.890173539042605\n",
      "3: 35.89835183432159\n"
     ]
    }
   ],
   "source": [
    "f1 = fundamental_eigenfrequency(bm)\n",
    "f2 = 6.268 * f1\n",
    "f3 = 17.456 * f1\n",
    "print(f\"1: {f1}\\n2: {f2}\\n3: {f3}\")"
   ]
  },
  {
   "cell_type": "code",
   "execution_count": 5,
   "metadata": {
    "pycharm": {
     "name": "#%%\n"
    },
    "scrolled": false
   },
   "outputs": [
    {
     "name": "stdout",
     "output_type": "stream",
     "text": [
      "line\n",
      "Removing old files before copying new\n"
     ]
    },
    {
     "name": "stderr",
     "output_type": "stream",
     "text": [
      "ERROR:root:Solid section export to Code Aster is not yet supported\n"
     ]
    },
    {
     "name": "stdout",
     "output_type": "stream",
     "text": [
      "Created a Code_Aster input deck at \"C:\\AibelProgs\\ADA\\scratch\\Cantilever_CA_EIG_bm\"\n",
      "--------------------------------------------------------------------------------\n",
      "starting CodeAsterAnalysis simulation \"Cantilever_CA_EIG_bm\"\n"
     ]
    },
    {
     "name": "stderr",
     "output_type": "stream",
     "text": [
      "ERROR:root:Result file \"C:\\AibelProgs\\ADA\\scratch\\Cantilever_CA_EIG_bm\\Cantilever_CA_EIG_bm.rmed\" was not found\n"
     ]
    },
    {
     "name": "stdout",
     "output_type": "stream",
     "text": [
      "Finished CodeAsterAnalysis simulation \"Cantilever_CA_EIG_bm\"\n",
      "--------------------------------------------------------------------------------\n"
     ]
    }
   ],
   "source": [
    "def make_fem(beam, assembly, part, geom_repr):\n",
    "    print(geom_repr)\n",
    "    with GmshSession(silent=True, options=GmshOptions(Mesh_ElementOrder=2)) as gs:\n",
    "        gs.add_obj(bm, geom_repr=geom_repr)\n",
    "        gs.mesh(0.1)\n",
    "        part.fem = gs.get_fem()\n",
    "    fix_set = part.fem.add_set(FemSet(\"bc_nodes\", get_beam_end_nodes(beam), \"nset\"))\n",
    "    assembly.fem.add_bc(Bc(\"Fixed\", fix_set, [1, 2, 3, 4, 5, 6]))\n",
    "    assembly.fem.add_step(Step(\"Eigen\", \"eigenfrequency\"))\n",
    "\n",
    "p = Part(\"MyPart\")\n",
    "a = Assembly(\"MyAssembly\") / [p / bm]\n",
    "make_fem(bm, a, p, \"line\")\n",
    "res = a.to_fem(\"Cantilever_CA_EIG_bm\", \"code_aster\", overwrite=True, execute=True)"
   ]
  },
  {
   "cell_type": "code",
   "execution_count": 6,
   "metadata": {},
   "outputs": [
    {
     "data": {
      "application/vnd.jupyter.widget-view+json": {
       "model_id": "42c4e739d4d440dca29ddbda2692f3b8",
       "version_major": 2,
       "version_minor": 0
      },
      "text/plain": [
       "HBox(children=(VBox(children=(HBox(children=(Button(description='Geom', layout=Layout(height='auto', width='au…"
      ]
     },
     "metadata": {},
     "output_type": "display_data"
    },
    {
     "data": {
      "text/html": [],
      "text/plain": [
       "Assembly(\"MyAssembly\": Beams: 1, Plates: 0, Pipes: 0, Shapes: 0, Elements: 50, Nodes: 101)"
      ]
     },
     "execution_count": 6,
     "metadata": {},
     "output_type": "execute_result"
    }
   ],
   "source": [
    "a"
   ]
  },
  {
   "cell_type": "code",
   "execution_count": 5,
   "metadata": {
    "pycharm": {
     "name": "#%%\n"
    }
   },
   "outputs": [
    {
     "ename": "AttributeError",
     "evalue": "'NoneType' object has no attribute 'results_file_path'",
     "output_type": "error",
     "traceback": [
      "\u001B[1;31m---------------------------------------------------------------------------\u001B[0m",
      "\u001B[1;31mAttributeError\u001B[0m                            Traceback (most recent call last)",
      "\u001B[1;32m~\\AppData\\Local\\Temp/ipykernel_14372/663213975.py\u001B[0m in \u001B[0;36m<module>\u001B[1;34m\u001B[0m\n\u001B[1;32m----> 1\u001B[1;33m \u001B[0mvisualize_it\u001B[0m\u001B[1;33m(\u001B[0m\u001B[0mres\u001B[0m\u001B[1;33m.\u001B[0m\u001B[0mresults_file_path\u001B[0m\u001B[1;33m,\u001B[0m \u001B[0mtemp_file\u001B[0m\u001B[1;33m=\u001B[0m\u001B[1;34m'../_temp_bm.vtu'\u001B[0m\u001B[1;33m)\u001B[0m\u001B[1;33m\u001B[0m\u001B[1;33m\u001B[0m\u001B[0m\n\u001B[0m",
      "\u001B[1;31mAttributeError\u001B[0m: 'NoneType' object has no attribute 'results_file_path'"
     ]
    }
   ],
   "source": [
    "visualize_it(res.results_file_path, temp_file='../_temp_bm.vtu')"
   ]
  },
  {
   "cell_type": "code",
   "execution_count": null,
   "metadata": {
    "pycharm": {
     "name": "#%%\n"
    }
   },
   "outputs": [],
   "source": [
    "f = h5py.File(res.results_file_path)\n",
    "modes = f.get(\"CHA/modes___DEPL\")\n",
    "\n",
    "for mname, m in modes.items():\n",
    "    mode = m.attrs[\"NDT\"]\n",
    "    freq = m.attrs[\"PDT\"]\n",
    "\n",
    "    print(mode, freq)"
   ]
  },
  {
   "cell_type": "code",
   "execution_count": null,
   "metadata": {
    "pycharm": {
     "name": "#%%\n"
    }
   },
   "outputs": [],
   "source": [
    "p = Part(\"MyPart\")\n",
    "a = Assembly(\"MyAssembly\") / [p / bm]\n",
    "make_fem(bm, a, p, \"shell\")\n",
    "res = a.to_fem(\"Cantilever_CA_EIG_sh\", \"code_aster\", overwrite=True, execute=True)"
   ]
  },
  {
   "cell_type": "code",
   "execution_count": null,
   "metadata": {
    "pycharm": {
     "name": "#%%\n"
    }
   },
   "outputs": [],
   "source": [
    "visualize_it(res.results_file_path, temp_file='../_temp_sh.vtu')"
   ]
  },
  {
   "cell_type": "code",
   "execution_count": null,
   "metadata": {
    "pycharm": {
     "name": "#%%\n"
    }
   },
   "outputs": [],
   "source": [
    "f = h5py.File(res.results_file_path)\n",
    "modes = f.get(\"CHA/modes___DEPL\")\n",
    "\n",
    "for mname, m in modes.items():\n",
    "    mode = m.attrs[\"NDT\"]\n",
    "    freq = m.attrs[\"PDT\"]\n",
    "\n",
    "    print(mode, freq)"
   ]
  }
 ],
 "metadata": {
  "kernelspec": {
   "display_name": "Python 3 (ipykernel)",
   "language": "python",
   "name": "python3"
  },
  "language_info": {
   "codemirror_mode": {
    "name": "ipython",
    "version": 3
   },
   "file_extension": ".py",
   "mimetype": "text/x-python",
   "name": "python",
   "nbconvert_exporter": "python",
   "pygments_lexer": "ipython3",
   "version": "3.9.6"
  }
 },
 "nbformat": 4,
 "nbformat_minor": 1
}
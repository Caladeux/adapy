{
 "cells": [
  {
   "cell_type": "code",
   "execution_count": null,
   "metadata": {},
   "outputs": [],
   "source": [
    "import h5py\n",
    "import numpy as np\n",
    "\n",
    "from ada import Assembly, Beam, Material, Part\n",
    "from ada.fem import Bc, FemSet, Step\n",
    "from ada.fem.meshing.gmshapiv2 import GmshSession, GmshOptions\n",
    "from ada.fem.utils import get_beam_end_nodes\n",
    "from ada.materials.metals import CarbonSteel\n",
    "\n",
    "from ada.visualize.femviz import visualize_it"
   ]
  },
  {
   "cell_type": "code",
   "execution_count": null,
   "metadata": {
    "pycharm": {
     "name": "#%%\n"
    }
   },
   "outputs": [],
   "source": [
    "def fundamental_eigenfrequency(bm: Beam):\n",
    "    L = bm.length\n",
    "    E = bm.material.model.E\n",
    "    rho = bm.material.model.rho\n",
    "    I = bm.section.properties.Iy\n",
    "    return (1 / (2 * np.pi)) * (3.5156 / L ** 2) * np.sqrt(E * I / rho)\n",
    "\n",
    "\n",
    "bm = Beam(\"MyBeam\", (0, 0.5, 0.5), (5, 0.5, 0.5), \"IPE400\", Material(\"S420\", CarbonSteel(\"S420\")))\n",
    "bm"
   ]
  },
  {
   "cell_type": "code",
   "execution_count": null,
   "metadata": {
    "pycharm": {
     "name": "#%%\n"
    }
   },
   "outputs": [],
   "source": [
    "f1 = fundamental_eigenfrequency(bm)\n",
    "f2 = 6.268 * f1\n",
    "f3 = 17.456 * f1\n",
    "print(f\"1: {f1}\\n2: {f2}\\n3: {f3}\")"
   ]
  },
  {
   "cell_type": "code",
   "execution_count": null,
   "metadata": {
    "pycharm": {
     "name": "#%%\n"
    },
    "scrolled": false
   },
   "outputs": [],
   "source": [
    "def make_fem(beam, assembly, part, geom_repr):\n",
    "    print(geom_repr)\n",
    "    with GmshSession(silent=True, options=GmshOptions(Mesh_ElementOrder=1)) as gs:\n",
    "        gs.add_obj(bm, geom_repr=geom_repr)\n",
    "        gs.mesh(0.1)\n",
    "        part.fem = gs.get_fem()\n",
    "    fix_set = part.fem.add_set(FemSet(\"bc_nodes\", get_beam_end_nodes(beam), \"nset\"))\n",
    "    assembly.fem.add_bc(Bc(\"Fixed\", fix_set, [1, 2, 3, 4, 5, 6]))\n",
    "    assembly.fem.add_step(Step(\"Eigen\", \"eigenfrequency\"))\n",
    "\n",
    "\n",
    "p = Part(\"MyPart\")\n",
    "a = Assembly(\"MyAssembly\") / [p / bm]\n",
    "make_fem(bm, a, p, \"line\")\n",
    "res = a.to_fem(\"Cantilever_CA_EIG_bm\", \"code_aster\", overwrite=True, execute=True)"
   ]
  },
  {
   "cell_type": "code",
   "execution_count": null,
   "metadata": {},
   "outputs": [],
   "source": [
    "a"
   ]
  },
  {
   "cell_type": "code",
   "execution_count": null,
   "metadata": {
    "pycharm": {
     "name": "#%%\n"
    }
   },
   "outputs": [],
   "source": [
    "visualize_it(res.results_file_path, temp_file=\"../_temp_bm.vtu\")"
   ]
  },
  {
   "cell_type": "code",
   "execution_count": null,
   "metadata": {
    "pycharm": {
     "name": "#%%\n"
    }
   },
   "outputs": [],
   "source": [
    "f = h5py.File(res.results_file_path)\n",
    "modes = f.get(\"CHA/modes___DEPL\")\n",
    "\n",
    "for mname, m in modes.items():\n",
    "    mode = m.attrs[\"NDT\"]\n",
    "    freq = m.attrs[\"PDT\"]\n",
    "\n",
    "    print(mode, freq)"
   ]
  },
  {
   "cell_type": "code",
   "execution_count": null,
   "metadata": {
    "pycharm": {
     "name": "#%%\n"
    }
   },
   "outputs": [],
   "source": [
    "p = Part(\"MyPart\")\n",
    "a = Assembly(\"MyAssembly\") / [p / bm]\n",
    "make_fem(bm, a, p, \"shell\")\n",
    "res = a.to_fem(\"Cantilever_CA_EIG_sh\", \"code_aster\", overwrite=True, execute=True)"
   ]
  },
  {
   "cell_type": "code",
   "execution_count": null,
   "metadata": {
    "pycharm": {
     "name": "#%%\n"
    }
   },
   "outputs": [],
   "source": [
    "visualize_it(res.results_file_path, temp_file=\"../_temp_sh.vtu\")"
   ]
  },
  {
   "cell_type": "code",
   "execution_count": null,
   "metadata": {
    "pycharm": {
     "name": "#%%\n"
    }
   },
   "outputs": [],
   "source": [
    "f = h5py.File(res.results_file_path)\n",
    "modes = f.get(\"CHA/modes___DEPL\")\n",
    "\n",
    "for mname, m in modes.items():\n",
    "    mode = m.attrs[\"NDT\"]\n",
    "    freq = m.attrs[\"PDT\"]\n",
    "\n",
    "    print(mode, freq)"
   ]
  }
 ],
 "metadata": {
  "kernelspec": {
   "display_name": "Python 3 (ipykernel)",
   "language": "python",
   "name": "python3"
  },
  "language_info": {
   "codemirror_mode": {
    "name": "ipython",
    "version": 3
   },
   "file_extension": ".py",
   "mimetype": "text/x-python",
   "name": "python",
   "nbconvert_exporter": "python",
   "pygments_lexer": "ipython3",
   "version": "3.9.6"
  }
 },
 "nbformat": 4,
 "nbformat_minor": 1
}
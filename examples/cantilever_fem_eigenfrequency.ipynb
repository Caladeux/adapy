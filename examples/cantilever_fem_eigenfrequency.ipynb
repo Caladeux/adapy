{
 "cells": [
  {
   "cell_type": "code",
   "execution_count": null,
   "metadata": {},
   "outputs": [],
   "source": [
    "from ada import Assembly, Beam, Material, Part\n",
    "from ada.fem import Bc, FemSet, Step\n",
    "from ada.fem.meshing import GmshOptions\n",
    "from ada.fem.utils import get_beam_end_nodes\n",
    "from ada.materials.metals import CarbonSteel\n",
    "\n",
    "from ada.visualize.femviz import visualize_it"
   ]
  },
  {
   "cell_type": "code",
   "execution_count": null,
   "metadata": {
    "pycharm": {
     "name": "#%%\n"
    }
   },
   "outputs": [],
   "source": [
    "bm = Beam(\"MyBeam\", (0, 0.5, 0.5), (5, 0.5, 0.5), \"IPE400\", Material(\"S420\", CarbonSteel(\"S420\")))"
   ]
  },
  {
   "cell_type": "code",
   "execution_count": null,
   "metadata": {
    "pycharm": {
     "name": "#%%\n"
    },
    "scrolled": false
   },
   "outputs": [],
   "source": [
    "def make_fem(beam: Beam, geom_repr):\n",
    "    part = bm.parent\n",
    "    assembly = part.get_assembly()\n",
    "    part.fem = bm.to_fem_obj(0.1, geom_repr, options=GmshOptions(Mesh_ElementOrder=1))\n",
    "    fix_set = part.fem.add_set(FemSet(\"bc_nodes\", get_beam_end_nodes(beam), FemSet.TYPES.NSET))\n",
    "    assembly.fem.add_bc(Bc(\"Fixed\", fix_set, [1, 2, 3, 4, 5, 6]))\n",
    "    assembly.fem.add_step(Step(\"Eigen\", Step.TYPES.EIGEN, eigenmodes=10))\n",
    "\n",
    "\n",
    "a = Assembly(\"MyAssembly\") / [Part(\"MyPart\") / bm]\n",
    "make_fem(bm, \"line\")\n",
    "res = a.to_fem(\"Cantilever_CA_EIG_bm\", \"code_aster\", overwrite=True, execute=True)"
   ]
  },
  {
   "cell_type": "code",
   "execution_count": null,
   "metadata": {
    "pycharm": {
     "name": "#%%\n"
    }
   },
   "outputs": [],
   "source": [
    "visualize_it(res.results_file_path, temp_file=\"../_temp_bm.vtu\")"
   ]
  },
  {
   "cell_type": "code",
   "execution_count": null,
   "metadata": {
    "pycharm": {
     "name": "#%%\n"
    }
   },
   "outputs": [],
   "source": [
    "for mode in res.eigen_mode_data.modes:\n",
    "    print(mode)"
   ]
  },
  {
   "cell_type": "code",
   "execution_count": null,
   "metadata": {
    "pycharm": {
     "name": "#%%\n"
    }
   },
   "outputs": [],
   "source": [
    "a = Assembly(\"MyAssembly\") / [Part(\"MyPart\") / bm]\n",
    "make_fem(bm, \"shell\")\n",
    "res = a.to_fem(\"Cantilever_CA_EIG_sh\", \"code_aster\", overwrite=True, execute=True)"
   ]
  },
  {
   "cell_type": "code",
   "execution_count": null,
   "metadata": {
    "pycharm": {
     "name": "#%%\n"
    }
   },
   "outputs": [],
   "source": [
    "visualize_it(res.results_file_path, temp_file=\"../_temp_sh.vtu\")"
   ]
  },
  {
   "cell_type": "code",
   "execution_count": null,
   "metadata": {
    "pycharm": {
     "name": "#%%\n"
    }
   },
   "outputs": [],
   "source": [
    "for mode in res.eigen_mode_data.modes:\n",
    "    print(mode)"
   ]
  }
 ],
 "metadata": {
  "kernelspec": {
   "display_name": "Python 3 (ipykernel)",
   "language": "python",
   "name": "python3"
  },
  "language_info": {
   "codemirror_mode": {
    "name": "ipython",
    "version": 3
   },
   "file_extension": ".py",
   "mimetype": "text/x-python",
   "name": "python",
   "nbconvert_exporter": "python",
   "pygments_lexer": "ipython3",
   "version": "3.9.6"
  }
 },
 "nbformat": 4,
 "nbformat_minor": 1
}

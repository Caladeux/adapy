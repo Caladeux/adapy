{
 "cells": [
  {
   "cell_type": "code",
   "execution_count": null,
   "metadata": {},
   "outputs": [],
   "source": [
    "import h5py\n",
    "import numpy as np\n",
    "\n",
    "from ada import Assembly, Beam, Material, Part\n",
    "from ada.fem import Bc, FemSet, Step\n",
    "from ada.fem.io.mesh.recipes import create_beam_mesh\n",
    "from ada.fem.utils import get_beam_end_nodes\n",
    "from ada.materials.metals import CarbonSteel"
   ]
  },
  {
   "cell_type": "code",
   "execution_count": null,
   "metadata": {
    "pycharm": {
     "name": "#%%\n"
    }
   },
   "outputs": [],
   "source": [
    "def fundamental_eigenfrequency(bm: Beam):\n",
    "    L = bm.length\n",
    "    E = bm.material.model.E\n",
    "    rho = bm.material.model.rho\n",
    "    I = bm.section.properties.Iy\n",
    "    return (1 / (2 * np.pi)) * (3.5156 / L ** 2) * np.sqrt(E * I / rho)\n",
    "\n",
    "\n",
    "bm = Beam(\"MyBeam\", (0, 0.5, 0.5), (5, 0.5, 0.5), \"IPE400\", Material(\"S420\", CarbonSteel(\"S420\")))\n",
    "bm"
   ]
  },
  {
   "cell_type": "code",
   "execution_count": null,
   "metadata": {
    "pycharm": {
     "name": "#%%\n"
    }
   },
   "outputs": [],
   "source": [
    "f1 = fundamental_eigenfrequency(bm)\n",
    "f2 = 6.268 * f1\n",
    "f3 = 17.456 * f1\n",
    "print(f\"1: {f1}\\n2: {f2}\\n3: {f3}\")"
   ]
  },
  {
   "cell_type": "code",
   "execution_count": null,
   "metadata": {
    "pycharm": {
     "name": "#%%\n"
    }
   },
   "outputs": [],
   "source": [
    "p = Part(\"MyPart\")\n",
    "a = Assembly(\"MyAssembly\") / [p / bm]\n",
    "p.gmsh.mesh(0.1)\n",
    "\n",
    "fix_set = p.fem.add_set(FemSet(\"bc_nodes\", get_beam_end_nodes(bm), \"nset\"))\n",
    "a.fem.add_bc(Bc(\"Fixed\", fix_set, [1, 2, 3, 4, 5, 6]))\n",
    "\n",
    "a.fem.add_step(Step(\"Eigen\", \"eigenfrequency\"))\n",
    "\n",
    "res = a.to_fem(\"Cantilever_CA_EIG_bm\", \"code_aster\", overwrite=True, execute=True)\n",
    "\n",
    "f = h5py.File(res.results_file_path)\n",
    "modes = f.get(\"CHA/modes___DEPL\")\n",
    "\n",
    "for mname, m in modes.items():\n",
    "    mode = m.attrs[\"NDT\"]\n",
    "    freq = m.attrs[\"PDT\"]\n",
    "\n",
    "    print(mode, freq)\n"
   ]
  },
  {
   "cell_type": "code",
   "execution_count": null,
   "metadata": {
    "pycharm": {
     "name": "#%%\n"
    }
   },
   "outputs": [],
   "source": [
    "p = Part(\"MyPart\")\n",
    "a = Assembly(\"MyAssembly\") / [p / bm]\n",
    "create_beam_mesh(bm, p.fem, \"shell\")\n",
    "\n",
    "fix_set = p.fem.add_set(FemSet(\"bc_nodes\", get_beam_end_nodes(bm), \"nset\"))\n",
    "a.fem.add_bc(Bc(\"Fixed\", fix_set, [1, 2, 3, 4, 5, 6]))\n",
    "\n",
    "a.fem.add_step(Step(\"Eigen\", \"eigenfrequency\"))\n",
    "\n",
    "res = a.to_fem(\"Cantilever_CA_EIG_sh\", \"code_aster\", overwrite=True, execute=True)\n",
    "\n",
    "f = h5py.File(res.results_file_path)\n",
    "modes = f.get(\"CHA/modes___DEPL\")\n",
    "\n",
    "for mname, m in modes.items():\n",
    "    mode = m.attrs[\"NDT\"]\n",
    "    freq = m.attrs[\"PDT\"]\n",
    "\n",
    "    print(mode, freq)"
   ]
  }
 ],
 "metadata": {
  "kernelspec": {
   "display_name": "Python 3",
   "language": "python",
   "name": "python3"
  },
  "language_info": {
   "codemirror_mode": {
    "name": "ipython",
    "version": 3
   },
   "file_extension": ".py",
   "mimetype": "text/x-python",
   "name": "python",
   "nbconvert_exporter": "python",
   "pygments_lexer": "ipython3",
   "version": "3.8.5"
  }
 },
 "nbformat": 4,
 "nbformat_minor": 1
}
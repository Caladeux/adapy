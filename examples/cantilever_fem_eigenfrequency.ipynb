{
 "cells": [
  {
   "cell_type": "code",
   "execution_count": 1,
   "metadata": {},
   "outputs": [],
   "source": [
    "import h5py\n",
    "import numpy as np\n",
    "\n",
    "from ada import Assembly, Beam, Material, Part\n",
    "from ada.fem import Bc, FemSet, Step\n",
    "from ada.fem.io.mesh.recipes import create_beam_mesh\n",
    "from ada.fem.utils import get_beam_end_nodes\n",
    "from ada.materials.metals import CarbonSteel\n",
    "\n",
    "from ada.fem.visualize import visualize_it"
   ]
  },
  {
   "cell_type": "code",
   "execution_count": 2,
   "metadata": {
    "pycharm": {
     "name": "#%%\n"
    }
   },
   "outputs": [
    {
     "data": {
      "application/vnd.jupyter.widget-view+json": {
       "model_id": "1adc9321fd104b2f86aa0517172e6c58",
       "version_major": 2,
       "version_minor": 0
      },
      "text/plain": [
       "HBox(children=(VBox(children=(HBox(children=(Button(description='Geom', layout=Layout(height='auto', width='au…"
      ]
     },
     "metadata": {},
     "output_type": "display_data"
    },
    {
     "data": {
      "text/html": [],
      "text/plain": [
       "Beam(\"MyBeam\", [0.0, 0.5, 0.5], [5.0, 0.5, 0.5], IPE400, S420)"
      ]
     },
     "execution_count": 2,
     "metadata": {},
     "output_type": "execute_result"
    }
   ],
   "source": [
    "def fundamental_eigenfrequency(bm: Beam):\n",
    "    L = bm.length\n",
    "    E = bm.material.model.E\n",
    "    rho = bm.material.model.rho\n",
    "    I = bm.section.properties.Iy\n",
    "    return (1 / (2 * np.pi)) * (3.5156 / L ** 2) * np.sqrt(E * I / rho)\n",
    "\n",
    "\n",
    "bm = Beam(\"MyBeam\", (0, 0.5, 0.5), (5, 0.5, 0.5), \"IPE400\", Material(\"S420\", CarbonSteel(\"S420\")))\n",
    "bm"
   ]
  },
  {
   "cell_type": "code",
   "execution_count": 3,
   "metadata": {
    "pycharm": {
     "name": "#%%\n"
    }
   },
   "outputs": [
    {
     "name": "stdout",
     "output_type": "stream",
     "text": [
      "1: 2.0565050317553615\n",
      "2: 12.890173539042605\n",
      "3: 35.89835183432159\n"
     ]
    }
   ],
   "source": [
    "f1 = fundamental_eigenfrequency(bm)\n",
    "f2 = 6.268 * f1\n",
    "f3 = 17.456 * f1\n",
    "print(f\"1: {f1}\\n2: {f2}\\n3: {f3}\")"
   ]
  },
  {
   "cell_type": "code",
   "execution_count": 4,
   "metadata": {
    "pycharm": {
     "name": "#%%\n"
    },
    "scrolled": false
   },
   "outputs": [
    {
     "name": "stdout",
     "output_type": "stream",
     "text": [
      "Removing old files before copying new\n",
      "Created a Code_Aster input deck at \"C:\\AibelProgs\\ADA\\scratch\\Cantilever_CA_EIG_bm\"\n",
      "--------------------------------------------------------------------------------\n",
      "starting CodeAsterAnalysis simulation \"Cantilever_CA_EIG_bm\"\n",
      "Finished CodeAsterAnalysis simulation \"Cantilever_CA_EIG_bm\"\n",
      "--------------------------------------------------------------------------------\n",
      "1 4.672562038746128\n",
      "2 6.170775817056764\n",
      "3 18.518418261566026\n",
      "4 22.898314280607366\n",
      "5 29.282447999560382\n",
      "6 30.884339083010413\n",
      "7 43.28074337142302\n",
      "8 55.71986436549283\n",
      "9 68.21397245193279\n",
      "10 80.77538180753837\n",
      "11 81.99173251105687\n",
      "12 93.41645386861136\n",
      "13 106.14959670090452\n",
      "14 118.98725920121504\n",
      "15 131.94191888574105\n",
      "16 143.5012936184222\n",
      "17 145.02606180624946\n",
      "18 158.25215287849218\n",
      "19 160.67126415803756\n",
      "20 171.63259460303757\n"
     ]
    },
    {
     "data": {
      "application/vnd.jupyter.widget-view+json": {
       "model_id": "f866f74099cc4abf8ec3d90939aa808b",
       "version_major": 2,
       "version_minor": 0
      },
      "text/plain": [
       "AppLayout(children=(Scene(children=[Warp(input=(('modes___DEPL[0]_-_4.67256', 'X1'), ('modes___DEPL[0]_-_4.672…"
      ]
     },
     "metadata": {},
     "output_type": "display_data"
    }
   ],
   "source": [
    "def make_fem(beam, assembly, part, mesh_type):\n",
    "    create_beam_mesh(beam, part.fem, \"shell\") if mesh_type == \"shell\" else part.gmsh.mesh(0.1)\n",
    "    fix_set = part.fem.add_set(FemSet(\"bc_nodes\", get_beam_end_nodes(beam), \"nset\"))\n",
    "    assembly.fem.add_bc(Bc(\"Fixed\", fix_set, [1, 2, 3, 4, 5, 6]))\n",
    "    assembly.fem.add_step(Step(\"Eigen\", \"eigenfrequency\"))\n",
    "   \n",
    "p = Part(\"MyPart\")\n",
    "a = Assembly(\"MyAssembly\") / [p / bm]\n",
    "make_fem(bm, a, p, \"beam\")\n",
    "res = a.to_fem(\"Cantilever_CA_EIG_bm\", \"code_aster\", overwrite=True, execute=True)\n",
    "\n",
    "f = h5py.File(res.results_file_path)\n",
    "modes = f.get(\"CHA/modes___DEPL\")\n",
    "\n",
    "for mname, m in modes.items():\n",
    "    mode = m.attrs[\"NDT\"]\n",
    "    freq = m.attrs[\"PDT\"]\n",
    "\n",
    "    print(mode, freq)\n",
    "\n",
    "visualize_it(res.results_file_path)"
   ]
  },
  {
   "cell_type": "code",
   "execution_count": 5,
   "metadata": {
    "pycharm": {
     "name": "#%%\n"
    }
   },
   "outputs": [
    {
     "data": {
      "application/vnd.jupyter.widget-view+json": {
       "model_id": "a39bcfaaa67149bdba4cc500af17193d",
       "version_major": 2,
       "version_minor": 0
      },
      "text/plain": [
       "AppLayout(children=(Scene(children=[Warp(factor=0.7, input=[('modes___DEPL[1]_-_10.6547', 'X1'), ('modes___DEP…"
      ]
     },
     "metadata": {},
     "output_type": "display_data"
    }
   ],
   "source": [
    "p = Part(\"MyPart\")\n",
    "a = Assembly(\"MyAssembly\") / [p / bm]\n",
    "make_fem(bm, a, p, \"shell\")\n",
    "res = a.to_fem(\"Cantilever_CA_EIG_sh\", \"code_aster\", overwrite=True, execute=True)\n",
    "\n",
    "f = h5py.File(res.results_file_path)\n",
    "modes = f.get(\"CHA/modes___DEPL\")\n",
    "\n",
    "for mname, m in modes.items():\n",
    "    mode = m.attrs[\"NDT\"]\n",
    "    freq = m.attrs[\"PDT\"]\n",
    "\n",
    "    print(mode, freq)\n",
    "\n",
    "visualize_it(res.results_file_path)"
   ]
  }
 ],
 "metadata": {
  "kernelspec": {
   "display_name": "Python 3 (ipykernel)",
   "language": "python",
   "name": "python3"
  },
  "language_info": {
   "codemirror_mode": {
    "name": "ipython",
    "version": 3
   },
   "file_extension": ".py",
   "mimetype": "text/x-python",
   "name": "python",
   "nbconvert_exporter": "python",
   "pygments_lexer": "ipython3",
   "version": "3.9.6"
  }
 },
 "nbformat": 4,
 "nbformat_minor": 1
}
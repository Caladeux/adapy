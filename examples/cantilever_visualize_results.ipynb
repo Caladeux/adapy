{
 "cells": [
  {
   "cell_type": "code",
   "execution_count": 1,
   "metadata": {},
   "outputs": [],
   "source": [
    "from ada.base.render_fem import viz_fem\n",
    "from ada.param_models.fem_models import beam_ex1\n",
    "from ada.config import Settings\n",
    "import meshio"
   ]
  },
  {
   "cell_type": "code",
   "execution_count": 2,
   "metadata": {
    "pycharm": {
     "name": "#%%\n"
    }
   },
   "outputs": [
    {
     "name": "stdout",
     "output_type": "stream",
     "text": [
      "step file created at \"C:\\Users\\Kristoffer\\ADA\\temp\\MyBeam_03M3XMgbKHww3zv5utukF1.stp\"\n",
      "Exporting to \"code_aster\" using to_fem\n",
      "creating: MyCantilever_code_aster\n",
      "Removing old files before copying new\n",
      "Created a Code_Aster input deck at \"C:\\Users\\Kristoffer\\ADA\\Analyses\\MyCantilever_code_aster\"\n",
      "--------------------------------------------------------------------------------\n",
      "starting CodeAsterAnalysis simulation \"MyCantilever_code_aster\"\n",
      "Finished CodeAsterAnalysis simulation \"MyCantilever_code_aster\"\n",
      "--------------------------------------------------------------------------------\n"
     ]
    }
   ],
   "source": [
    "a = beam_ex1()\n",
    "p = a.parts[\"MyPart\"]\n",
    "ca_name = \"MyCantilever_code_aster\"\n",
    "a.to_fem(ca_name, \"code_aster\", overwrite=True, execute=True)\n",
    "\n",
    "rmed = (Settings.scratch_dir / ca_name / ca_name).with_suffix(\".rmed\")"
   ]
  },
  {
   "cell_type": "code",
   "execution_count": 3,
   "metadata": {
    "pycharm": {
     "name": "#%%\n"
    }
   },
   "outputs": [
    {
     "name": "stdout",
     "output_type": "stream",
     "text": [
      "point_tags\n",
      "DISP[0] - 0\n",
      "DISP[1] - 0.1\n",
      "DISP[2] - 0.2\n",
      "DISP[3] - 0.3\n",
      "DISP[4] - 0.4\n",
      "DISP[5] - 0.5\n",
      "DISP[6] - 0.6\n",
      "DISP[7] - 0.7\n",
      "DISP[8] - 0.8\n",
      "DISP[9] - 0.9\n",
      "DISP[10] - 1\n",
      "GEN_FORCES_NODES[0] - 0\n",
      "GEN_FORCES_NODES[1] - 0.1\n",
      "GEN_FORCES_NODES[2] - 0.2\n",
      "GEN_FORCES_NODES[3] - 0.3\n",
      "GEN_FORCES_NODES[4] - 0.4\n",
      "GEN_FORCES_NODES[5] - 0.5\n",
      "GEN_FORCES_NODES[6] - 0.6\n",
      "GEN_FORCES_NODES[7] - 0.7\n",
      "GEN_FORCES_NODES[8] - 0.8\n",
      "GEN_FORCES_NODES[9] - 0.9\n",
      "GEN_FORCES_NODES[10] - 1\n",
      "STRESSES_NODES[0] - 0\n",
      "STRESSES_NODES[1] - 0.1\n",
      "STRESSES_NODES[2] - 0.2\n",
      "STRESSES_NODES[3] - 0.3\n",
      "STRESSES_NODES[4] - 0.4\n",
      "STRESSES_NODES[5] - 0.5\n",
      "STRESSES_NODES[6] - 0.6\n",
      "STRESSES_NODES[7] - 0.7\n",
      "STRESSES_NODES[8] - 0.8\n",
      "STRESSES_NODES[9] - 0.9\n",
      "STRESSES_NODES[10] - 1\n"
     ]
    }
   ],
   "source": [
    "mesh = meshio.read(rmed, \"med\")\n",
    "for n in mesh.point_data.keys():\n",
    "    print(n)"
   ]
  },
  {
   "cell_type": "code",
   "execution_count": 4,
   "metadata": {
    "pycharm": {
     "name": "#%%\n"
    }
   },
   "outputs": [
    {
     "data": {
      "application/vnd.jupyter.widget-view+json": {
       "model_id": "e30efd8e26244683a75748e7cc725704",
       "version_major": 2,
       "version_minor": 0
      },
      "text/plain": [
       "HBox(children=(VBox(children=(HBox(children=(Button(description='Geom', layout=Layout(height='auto', width='au…"
      ]
     },
     "metadata": {},
     "output_type": "display_data"
    }
   ],
   "source": [
    "viz_fem(p.fem, mesh, \"DISP[10] - 1\")"
   ]
  },
  {
   "cell_type": "code",
   "execution_count": 5,
   "metadata": {
    "pycharm": {
     "name": "#%%\n"
    }
   },
   "outputs": [
    {
     "data": {
      "application/vnd.jupyter.widget-view+json": {
       "model_id": "673ef09c7d914c0f9883120a05427ee6",
       "version_major": 2,
       "version_minor": 0
      },
      "text/plain": [
       "HBox(children=(VBox(children=(HBox(children=(Button(description='Geom', layout=Layout(height='auto', width='au…"
      ]
     },
     "metadata": {},
     "output_type": "display_data"
    }
   ],
   "source": [
    "viz_fem(p.fem, mesh, \"STRESSES_NODES[10] - 1\")"
   ]
  }
 ],
 "metadata": {
  "kernelspec": {
   "display_name": "Python 3",
   "language": "python",
   "name": "python3"
  },
  "language_info": {
   "codemirror_mode": {
    "name": "ipython",
    "version": 3
   },
   "file_extension": ".py",
   "mimetype": "text/x-python",
   "name": "python",
   "nbconvert_exporter": "python",
   "pygments_lexer": "ipython3",
   "version": "3.8.5"
  }
 },
 "nbformat": 4,
 "nbformat_minor": 1
}
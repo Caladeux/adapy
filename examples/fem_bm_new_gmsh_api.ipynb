{
 "cells": [
  {
   "cell_type": "markdown",
   "metadata": {},
   "source": [
    "# A basic FEM example using the new GmshSession class\n",
    "\n",
    "The new GmshSession class adds another example of how to interact with the Gmsh api in python."
   ]
  },
  {
   "cell_type": "code",
   "execution_count": null,
   "metadata": {},
   "outputs": [],
   "source": [
    "from ada import Beam, Part, Assembly, Plate, PrimBox\n",
    "from ada.fem.mesh.gmshapiv2 import GmshSession"
   ]
  },
  {
   "cell_type": "code",
   "execution_count": null,
   "metadata": {},
   "outputs": [],
   "source": [
    "bm1 = Beam(\"MyBeam\", (0, 0, 1), (1, 0, 1), \"IPE300\")\n",
    "bm2 = Beam(\"MySecondBeam\", (1.01, 0, 1), (2, 0, 1), \"IPE300\")\n",
    "bm3 = Beam(\"MyThirdBeam\", (2.01, 0, 1), (3, 0, 1), \"IPE300\")\n",
    "\n",
    "pl_atts = dict(origin=(1, 1, 1), xdir=(1, 0, 0), normal=(0, 0, 1))\n",
    "pl_points = [(0,0), (1,0), (1,1), (0,1)]\n",
    "pl1 = Plate('MyPlate', pl_points, 10e-3, **pl_atts)\n",
    "\n",
    "shp1 = PrimBox(\"MyBox\", (1, -2, -2), (2, -1, -1))\n",
    "\n",
    "with GmshSession(silent=True) as gs:\n",
    "    gs.add_obj(bm1, \"shell\")\n",
    "    gs.add_obj(bm2, \"solid\")\n",
    "    gs.add_obj(bm3, \"line\")\n",
    "    gs.add_obj(pl1, 'shell')\n",
    "    gs.add_obj(shp1)\n",
    "    #gs.open_gui()\n",
    "    gs.mesh(0.1)\n",
    "    fem = gs.get_fem()\n",
    "\n",
    "a = Assembly() / (Part(\"MyBeam\", fem=fem) / [bm1, bm2, bm3, pl1, shp1])\n",
    "a"
   ]
  }
 ],
 "metadata": {
  "kernelspec": {
   "display_name": "Python 3 (ipykernel)",
   "language": "python",
   "name": "python3"
  },
  "language_info": {
   "codemirror_mode": {
    "name": "ipython",
    "version": 3
   },
   "file_extension": ".py",
   "mimetype": "text/x-python",
   "name": "python",
   "nbconvert_exporter": "python",
   "pygments_lexer": "ipython3",
   "version": "3.9.6"
  }
 },
 "nbformat": 4,
 "nbformat_minor": 1
}

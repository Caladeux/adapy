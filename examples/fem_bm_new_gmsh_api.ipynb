{
 "cells": [
  {
   "cell_type": "code",
   "execution_count": null,
   "metadata": {},
   "outputs": [],
   "source": [
    "from ada import Beam, Part, Assembly\n",
    "from ada.fem.mesh.gmshapiv2 import GmshSession"
   ]
  },
  {
   "cell_type": "code",
   "execution_count": null,
   "metadata": {},
   "outputs": [],
   "source": [
    "bm1 = Beam(\"MyBeam\", (0, 0, 1), (1, 0, 1), \"IPE300\")\n",
    "bm2 = Beam(\"MySecondBeam\", (1.01, 0, 1), (2, 0, 1), \"IPE300\")\n",
    "bm3 = Beam(\"MyThirdBeam\", (2.01, 0, 1), (3, 0, 1), \"IPE300\")\n",
    "\n",
    "with GmshSession(silent=True) as gs:\n",
    "    gs.add_obj(bm1, \"shell\")\n",
    "    gs.add_obj(bm2, \"solid\")\n",
    "    gs.add_obj(bm3, \"beam\")\n",
    "    #gs.open_gui()\n",
    "    gs.mesh(0.5)\n",
    "    fem = gs.get_fem()\n",
    "a = Assembly() / (Part(\"MyBeam\", fem=fem) / [bm1, bm2, bm3])\n",
    "a"
   ]
  }
 ],
 "metadata": {
  "kernelspec": {
   "display_name": "Python 3 (ipykernel)",
   "language": "python",
   "name": "python3"
  },
  "language_info": {
   "codemirror_mode": {
    "name": "ipython",
    "version": 3
   },
   "file_extension": ".py",
   "mimetype": "text/x-python",
   "name": "python",
   "nbconvert_exporter": "python",
   "pygments_lexer": "ipython3",
   "version": "3.9.6"
  }
 },
 "nbformat": 4,
 "nbformat_minor": 1
}

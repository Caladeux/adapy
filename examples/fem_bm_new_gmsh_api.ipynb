{
 "cells": [
  {
   "cell_type": "markdown",
   "metadata": {},
   "source": [
    "# A basic FEM example using the new GmshSession class\n",
    "\n",
    "The new GmshSession class adds another example of how to interact with the Gmsh api in python."
   ]
  },
  {
   "cell_type": "code",
   "execution_count": null,
   "metadata": {
    "scrolled": false
   },
   "outputs": [],
   "source": [
    "from ada import Beam, Part, Assembly, Plate, PrimBox, Pipe, PrimSphere\n",
    "from ada.fem.mesh.gmshapiv2 import GmshSession, GmshOptions\n",
    "from ada.concepts.structural import make_ig_cutplanes"
   ]
  },
  {
   "cell_type": "code",
   "execution_count": null,
   "metadata": {
    "scrolled": false
   },
   "outputs": [],
   "source": [
    "bm1 = Beam(\"MyBeam\", (0, 0, 1), (1, 0, 1), \"IPE300\")\n",
    "bm2 = Beam(\"MySecondBeam\", (1.01, 0, 1), (2, 0, 1), \"IPE300\")\n",
    "bm3 = Beam(\"MyThirdBeam\", (2.01, 0, 1), (3, 0, 1), \"IPE300\")\n",
    "\n",
    "pl_atts = dict(origin=(1, 1, 1), xdir=(1, 0, 0), normal=(0, 0, 1))\n",
    "pl_points = [(0,0), (1,0), (1,1), (0,1)]\n",
    "pl1 = Plate('MyPlate', pl_points, 10e-3, **pl_atts)\n",
    "\n",
    "\n",
    "pipe = Pipe(\"MyPipe\", [(0, 0.5, 0), (1, 0.5, 0), (1.2, 0.7, 0.2), (1.5, 0.7, 0.2)], \"OD120x6\")\n",
    "\n",
    "p1, p2 = (1, -2, 0), (2, -1, 1)\n",
    "shp1 = PrimBox(\"MyBox\", p1, p2)\n",
    "shp1.add_penetration(PrimSphere(\"MyCutout\", p1, 0.5))\n",
    "\n",
    "with GmshSession(silent=True, options=GmshOptions(Mesh_ElementOrder=2)) as gs:\n",
    "    gs.add_obj(bm1, \"shell\")\n",
    "    solid_bm = gs.add_obj(bm2, \"solid\")\n",
    "    gs.add_obj(bm3, \"line\")\n",
    "    gs.add_obj(pl1, \"shell\")\n",
    "    gs.add_obj(shp1, \"solid\")\n",
    "    gs.add_obj(pipe, \"shell\")\n",
    "    #gs.open_gui()\n",
    "    gs.mesh(0.05)\n",
    "    fem = gs.get_fem()\n",
    "\n",
    "a = Assembly() / (Part(\"MyBeam\", fem=fem) / [bm1, bm2, bm3, pl1, shp1, pipe])\n",
    "a"
   ]
  }
 ],
 "metadata": {
  "kernelspec": {
   "display_name": "Python 3 (ipykernel)",
   "language": "python",
   "name": "python3"
  },
  "language_info": {
   "codemirror_mode": {
    "name": "ipython",
    "version": 3
   },
   "file_extension": ".py",
   "mimetype": "text/x-python",
   "name": "python",
   "nbconvert_exporter": "python",
   "pygments_lexer": "ipython3",
   "version": "3.9.6"
  }
 },
 "nbformat": 4,
 "nbformat_minor": 1
}

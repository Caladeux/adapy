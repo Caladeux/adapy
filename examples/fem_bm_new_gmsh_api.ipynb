{
 "cells": [
  {
   "cell_type": "code",
   "execution_count": 1,
   "metadata": {},
   "outputs": [],
   "source": [
    "from ada import Beam, Part, Assembly\n",
    "from ada.fem.mesh.gmshapiv2 import GmshSession"
   ]
  },
  {
   "cell_type": "code",
   "execution_count": 4,
   "metadata": {},
   "outputs": [
    {
     "name": "stdout",
     "output_type": "stream",
     "text": [
      "init method called\n",
      "Starting GMSH session\n",
      "Closing GMSH\n"
     ]
    },
    {
     "data": {
      "application/vnd.jupyter.widget-view+json": {
       "model_id": "08f42e1b86004b9da42ef99e067bf1f6",
       "version_major": 2,
       "version_minor": 0
      },
      "text/plain": [
       "HBox(children=(VBox(children=(HBox(children=(Button(description='Geom', layout=Layout(height='auto', width='au…"
      ]
     },
     "metadata": {},
     "output_type": "display_data"
    },
    {
     "data": {
      "text/html": [],
      "text/plain": [
       "Assembly(\"Ada\": Beams: 3, Plates: 0, Pipes: 0, Shapes: 0, Elements: 2092, Nodes: 1083)"
      ]
     },
     "execution_count": 4,
     "metadata": {},
     "output_type": "execute_result"
    }
   ],
   "source": [
    "bm1 = Beam(\"MyBeam\", (0, 0, 1), (1, 0, 1), \"IPE300\")\n",
    "bm2 = Beam(\"MySecondBeam\", (1.01, 0, 1), (2, 0, 1), \"IPE300\")\n",
    "bm3 = Beam(\"MyThirdBeam\", (2.01, 0, 1), (3, 0, 1), \"IPE300\")\n",
    "\n",
    "with GmshSession(silent=True) as gs:\n",
    "    gs.add_obj(bm1, \"shell\")\n",
    "    gs.add_obj(bm2, \"solid\")\n",
    "    gs.add_obj(bm3, \"beam\")\n",
    "    gs.mesh(0.05)\n",
    "    fem = gs.get_fem()\n",
    "a = Assembly() / (Part(\"MyBeam\", fem=fem) / [bm1, bm2, bm3])\n",
    "a"
   ]
  }
 ],
 "metadata": {
  "kernelspec": {
   "display_name": "Python 3 (ipykernel)",
   "language": "python",
   "name": "python3"
  },
  "language_info": {
   "codemirror_mode": {
    "name": "ipython",
    "version": 3
   },
   "file_extension": ".py",
   "mimetype": "text/x-python",
   "name": "python",
   "nbconvert_exporter": "python",
   "pygments_lexer": "ipython3",
   "version": "3.9.6"
  }
 },
 "nbformat": 4,
 "nbformat_minor": 1
}

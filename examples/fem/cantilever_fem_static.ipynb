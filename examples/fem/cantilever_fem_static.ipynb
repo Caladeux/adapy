{
 "cells": [
  {
   "cell_type": "markdown",
   "metadata": {},
   "source": [
    "# Cantilever Beam analyzed using Calculix and Code Aster\n",
    "\n",
    "The following example demonstrates how you can use `ada` to quickly build, visualize, simulate and postprocess FEM analysis."
   ]
  },
  {
   "cell_type": "code",
   "execution_count": null,
   "metadata": {
    "pycharm": {
     "name": "#%%\n"
    }
   },
   "outputs": [],
   "source": [
    "from ada.param_models.fem_models import beam_ex1"
   ]
  },
  {
   "cell_type": "markdown",
   "metadata": {},
   "source": [
    "**Import an Assembly object from a function**\n",
    "\n",
    "The function `beam_ex1()` builds and returns an `Assembly` containing a beam with a series of arbitrary cutouts. For more information on how the FEM model was created, you can look [here](https://github.com/Krande/adapy/blob/87f5356e519e6e707bfcde771e99e78225e27aff/src/ada/param_models/fem_models.py#L9-L59).\n",
    "\n",
    "The `Assembly` method `to_ifc()` creates an ifc file that can be imported in most BIM software. My software of choice is the open source alternative using [blender](https://www.blender.org/) and the [blenderbim](https://blenderbim.org/) addon."
   ]
  },
  {
   "cell_type": "code",
   "execution_count": null,
   "metadata": {
    "pycharm": {
     "name": "#%%\n"
    }
   },
   "outputs": [],
   "source": [
    "a = beam_ex1(geom_repr=\"shell\")\n",
    "a.to_ifc(\"../output/MyCantilever.ifc\")\n",
    "a"
   ]
  },
  {
   "cell_type": "markdown",
   "metadata": {},
   "source": [
    "**Run a FEM analysis using Calculix**\n",
    "\n",
    "The Assembly method `to_fem` creates an analysis directory called \"MyCantilever_calculix\" inside the `scratch`\n",
    "directory.\n",
    "\n",
    "By passing in `execute=True` calculix and code_aster will automatically start the analysis once the input files are\n",
    "created."
   ]
  },
  {
   "cell_type": "code",
   "execution_count": null,
   "metadata": {
    "pycharm": {
     "name": "#%%\n"
    }
   },
   "outputs": [],
   "source": [
    "ccx_name = \"MyCantilever_calculix\"\n",
    "ccx_res = a.to_fem(ccx_name, \"calculix\", overwrite=True, execute=True)\n",
    "ccx_res"
   ]
  },
  {
   "cell_type": "markdown",
   "metadata": {},
   "source": [
    "**Run a FEM analysis using Code Aster**"
   ]
  },
  {
   "cell_type": "code",
   "execution_count": null,
   "metadata": {
    "pycharm": {
     "name": "#%%\n"
    }
   },
   "outputs": [],
   "source": [
    "ca_name = \"MyCantilever_code_aster\"\n",
    "ca_res = a.to_fem(ca_name, \"code_aster\", overwrite=True, execute=True)\n",
    "ca_res"
   ]
  },
  {
   "cell_type": "markdown",
   "metadata": {},
   "source": [
    "**Reading the analysis results using Python**\n",
    "\n",
    "* Calculix:\n",
    "The analysis result file (frd) was automatically converted to VTU using the\n",
    "[ccx2paraview](https://github.com/calculix/ccx2paraview) package.\n",
    "\n",
    "* Code Aster:\n",
    "The analysis result file (RMED) can be read directly using meshio.\n",
    "\n",
    "\n",
    "By using meshio to read the `VTU` and `RMED` files (from Calculix and Code Aster respectively),\n",
    "it is possible to access the result data such as the nodal displacements 'U' (as shown below)."
   ]
  },
  {
   "cell_type": "code",
   "execution_count": null,
   "metadata": {
    "pycharm": {
     "name": "#%%\n"
    }
   },
   "outputs": [],
   "source": [
    "# Displacements in [X, Y, Z] at point @ index=-1\n",
    "ccx_res.result_mesh.mesh.point_data[\"U\"][-1]"
   ]
  },
  {
   "cell_type": "code",
   "execution_count": null,
   "metadata": {
    "pycharm": {
     "name": "#%%\n"
    }
   },
   "outputs": [],
   "source": [
    "ca_res.result_mesh.mesh.point_data[\"DISP[10] - 1\"][-1][:3]"
   ]
  }
 ],
 "metadata": {
  "kernelspec": {
   "display_name": "Python 3 (ipykernel)",
   "language": "python",
   "name": "python3"
  },
  "language_info": {
   "codemirror_mode": {
    "name": "ipython",
    "version": 3
   },
   "file_extension": ".py",
   "mimetype": "text/x-python",
   "name": "python",
   "nbconvert_exporter": "python",
   "pygments_lexer": "ipython3",
   "version": "3.9.7"
  }
 },
 "nbformat": 4,
 "nbformat_minor": 1
}

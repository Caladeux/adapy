{
 "cells": [
  {
   "cell_type": "markdown",
   "id": "massive-europe",
   "metadata": {},
   "source": [
    "# Design and Analyze a beam with holes\n",
    "\n",
    "The following example demonstrates how you can add penetrations to a beam using various primitives and finally export it to an IFC file"
   ]
  },
  {
   "cell_type": "code",
   "execution_count": null,
   "id": "stable-scottish",
   "metadata": {
    "pycharm": {
     "name": "#%%\n"
    }
   },
   "outputs": [],
   "source": [
    "import numpy as np\n",
    "from ada import Assembly, Beam, Part, PrimBox, PrimCyl, PrimExtrude, Material, CarbonSteel\n",
    "from ada.fem import Bc, FemSet, Load, Step\n",
    "from ada.fem.io.mesh.recipes import create_beam_mesh\n",
    "from ada.fem.utils import get_beam_end_nodes"
   ]
  },
  {
   "cell_type": "markdown",
   "id": "mechanical-disposal",
   "metadata": {},
   "source": [
    "**The basic beam setup**\n",
    "\n",
    "The following code creates the following Assembly (and IFC) hierarchy\n",
    "\n",
    "    MyAssembly (IfSite)\n",
    "        MyPart (IfcBuildingStorey)\n",
    "            MyBeam (IfcBeam)"
   ]
  },
  {
   "cell_type": "code",
   "execution_count": null,
   "id": "violent-rotation",
   "metadata": {
    "pycharm": {
     "name": "#%%\n"
    }
   },
   "outputs": [],
   "source": [
    "bm = Beam(\"MyBeam\", (0, 0, 0), (1.5, 0, 0), \"IPE400\", Material('S420', CarbonSteel(\"S420\")))\n",
    "a = Assembly(\"MyAssembly\") / [Part(\"MyPart\") / bm]\n",
    "a"
   ]
  },
  {
   "cell_type": "markdown",
   "id": "artificial-vegetable",
   "metadata": {},
   "source": [
    "**Polygon Extrusions**"
   ]
  },
  {
   "cell_type": "code",
   "execution_count": null,
   "id": "human-cowboy",
   "metadata": {
    "pycharm": {
     "name": "#%%\n"
    }
   },
   "outputs": [],
   "source": [
    "h = 0.2\n",
    "r = 0.02\n",
    "\n",
    "normal = [0, 1, 0]\n",
    "xdir = [-1, 0, 0]\n",
    "\n",
    "\n",
    "origin = np.array([0.2, -0.1, -0.1])\n",
    "points = [(0, 0), (0.1, 0), (0.05, 0.1)]\n",
    "\n",
    "poly1 = bm.add_penetration(PrimExtrude(\"Poly1\", points, h, normal, origin, xdir))\n",
    "bm"
   ]
  },
  {
   "cell_type": "code",
   "execution_count": null,
   "id": "attempted-moscow",
   "metadata": {
    "pycharm": {
     "name": "#%%\n"
    }
   },
   "outputs": [],
   "source": [
    "origin += np.array([0.2, 0, 0])\n",
    "points = [(0, 0, r), (0.1, 0, r), (0.05, 0.1, r)]\n",
    "\n",
    "poly2 = bm.add_penetration(PrimExtrude(\"Poly2\", points, h, normal, origin, xdir))\n",
    "bm"
   ]
  },
  {
   "cell_type": "code",
   "execution_count": null,
   "id": "broad-liverpool",
   "metadata": {
    "pycharm": {
     "name": "#%%\n"
    }
   },
   "outputs": [],
   "source": [
    "origin += np.array([0.2, 0, 0])\n",
    "points = [(0, 0, r), (0.1, 0, r), (0.1, 0.2, r), (0.0, 0.2, r)]\n",
    "\n",
    "poly3 = bm.add_penetration(PrimExtrude(\"Poly3\", points, h, normal, origin, xdir))\n",
    "bm"
   ]
  },
  {
   "cell_type": "code",
   "execution_count": null,
   "id": "liberal-afternoon",
   "metadata": {
    "pycharm": {
     "name": "#%%\n"
    }
   },
   "outputs": [],
   "source": [
    "# Cylinder Extrude\n",
    "x = origin[0] + 0.2\n",
    "\n",
    "cyl = bm.add_penetration(PrimCyl(\"cylinder\", (x, -0.1, 0), (x, 0.1, 0), 0.1))\n",
    "bm"
   ]
  },
  {
   "cell_type": "code",
   "execution_count": null,
   "id": "sustainable-burke",
   "metadata": {
    "pycharm": {
     "name": "#%%\n"
    }
   },
   "outputs": [],
   "source": [
    "# Box Extrude\n",
    "x += 0.2\n",
    "\n",
    "box = bm.add_penetration(PrimBox(\"box\", (x, -0.1, -0.1), (x + 0.2, 0.1, 0.1)))\n",
    "bm"
   ]
  },
  {
   "cell_type": "code",
   "execution_count": null,
   "id": "collective-cliff",
   "metadata": {
    "pycharm": {
     "name": "#%%\n"
    }
   },
   "outputs": [],
   "source": [
    "# Export IFC to the Home folder\n",
    "a.to_ifc('../output/MyBeamWithHoles.ifc')\n",
    "a"
   ]
  },
  {
   "cell_type": "code",
   "execution_count": null,
   "id": "mental-hughes",
   "metadata": {
    "pycharm": {
     "name": "#%%\n"
    }
   },
   "outputs": [],
   "source": [
    "# Create a FEM analysis of the beam as a cantilever subjected to gravity loads\n",
    "p = a.get_part(\"MyPart\")\n",
    "create_beam_mesh(bm, p.fem, \"shell\")\n",
    "\n",
    "# Add a set containing ALL elements (necessary for Calculix loads).\n",
    "fs = p.fem.add_set(FemSet(\"Eall\", [el for el in p.fem.elements], \"elset\"))\n",
    "\n",
    "step = a.fem.add_step(Step(\"gravity\", \"static\", nl_geom=True, init_incr=100.0, total_time=100.0))\n",
    "step.add_load(Load(\"grav\", \"gravity\", -9.81 * 800, fem_set=fs))\n",
    "\n",
    "fix_set = p.fem.add_set(FemSet(\"bc_nodes\", get_beam_end_nodes(bm), \"nset\"))\n",
    "a.fem.add_bc(Bc(\"Fixed\", fix_set, [1, 2, 3]))\n",
    "\n",
    "a"
   ]
  },
  {
   "cell_type": "code",
   "execution_count": null,
   "id": "protected-origin",
   "metadata": {
    "pycharm": {
     "name": "#%%\n"
    }
   },
   "outputs": [],
   "source": [
    "res = a.to_fem(\"MyCantilever_code_aster\", \"code_aster\", execute=True)"
   ]
  },
  {
   "cell_type": "code",
   "execution_count": null,
   "id": "unsigned-manchester",
   "metadata": {},
   "outputs": [],
   "source": [
    "res"
   ]
  },
  {
   "cell_type": "code",
   "execution_count": null,
   "outputs": [],
   "source": [
    "# Export IFC to the Home folder\n",
    "a.to_ifc('../output/MyBeamWithHoles.ifc')"
   ],
   "metadata": {
    "collapsed": false,
    "pycharm": {
     "name": "#%%\n"
    }
   }
  },
  {
   "cell_type": "markdown",
   "source": [
    "**Add the primitives used for cutting as solid shapes to your model**"
   ],
   "metadata": {
    "collapsed": false
   }
  },
  {
   "cell_type": "code",
   "execution_count": null,
   "outputs": [],
   "source": [
    "a / (Part('Shapes') / [poly1, poly2, poly3, cyl, box])\n",
    "a"
   ],
   "metadata": {
    "collapsed": false,
    "pycharm": {
     "name": "#%%\n"
    }
   }
  },
  {
   "cell_type": "code",
   "execution_count": null,
   "outputs": [],
   "source": [
    "# Export IFC to the Home folder\n",
    "a.to_ifc('../output/MyBeamWithHoles_and_Primitives.ifc')"
   ],
   "metadata": {
    "collapsed": false,
    "pycharm": {
     "name": "#%%\n"
    }
   }
  }
 ],
 "metadata": {
  "kernelspec": {
   "display_name": "Python 3",
   "language": "python",
   "name": "python3"
  },
  "language_info": {
   "codemirror_mode": {
    "name": "ipython",
    "version": 3
   },
   "file_extension": ".py",
   "mimetype": "text/x-python",
   "name": "python",
   "nbconvert_exporter": "python",
   "pygments_lexer": "ipython3",
   "version": "3.8.5"
  }
 },
 "nbformat": 4,
 "nbformat_minor": 5
}
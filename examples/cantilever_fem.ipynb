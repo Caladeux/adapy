{
 "cells": [
  {
   "cell_type": "markdown",
   "metadata": {},
   "source": [
    "# Cantilever Beam analyzed using Calculix and Code Aster\n",
    "\n",
    "The following example demonstrates how you can use `ada` to quickly build, visualize, simulate and postprocess FEM analysis."
   ]
  },
  {
   "cell_type": "code",
   "execution_count": 1,
   "metadata": {
    "pycharm": {
     "name": "#%%\n"
    }
   },
   "outputs": [],
   "source": [
    "from ada.param_models.fem_models import beam_ex1"
   ]
  },
  {
   "cell_type": "markdown",
   "metadata": {},
   "source": [
    "**Import an Assembly object from a function**\n",
    "\n",
    "The function `beam_ex1()` builds and returns an `Assembly` containing a beam with a series of arbitrary cutouts. For more information on how the FEM model was created, you can look [here](https://github.com/Krande/adapy/blob/87f5356e519e6e707bfcde771e99e78225e27aff/src/ada/param_models/fem_models.py#L9-L59).\n",
    "\n",
    "The `Assembly` method `to_ifc()` creates an ifc file that can be imported in most BIM software. My software of choice is the open source alternative using [blender](https://www.blender.org/) and the [blenderbim](https://blenderbim.org/) addon."
   ]
  },
  {
   "cell_type": "code",
   "execution_count": 2,
   "metadata": {
    "pycharm": {
     "name": "#%%\n"
    }
   },
   "outputs": [
    {
     "name": "stdout",
     "output_type": "stream",
     "text": [
      "Starting GMSH session\n",
      "step file created at \"C:\\Users\\ofskrand\\ADA\\temp\\MyBeam_2g5QyY104Hx9OvyDM$DI$q.stp\"\n",
      "ifc file created at \"..\\output\\MyCantilever.ifc\"\n"
     ]
    },
    {
     "data": {
      "application/vnd.jupyter.widget-view+json": {
       "model_id": "78b0bbd225d1409c9caa4bd976751019",
       "version_major": 2,
       "version_minor": 0
      },
      "text/plain": [
       "HBox(children=(VBox(children=(HBox(children=(Button(description='Geom', layout=Layout(height='auto', width='au…"
      ]
     },
     "metadata": {},
     "output_type": "display_data"
    },
    {
     "data": {
      "text/html": [],
      "text/plain": [
       "Assembly(\"Test\": Beams: 1, Plates: 0, Pipes: 0, Shapes: 0, Elements: 513, Nodes: 309)"
      ]
     },
     "execution_count": 2,
     "metadata": {},
     "output_type": "execute_result"
    }
   ],
   "source": [
    "a = beam_ex1()\n",
    "a.to_ifc('../output/MyCantilever.ifc')\n",
    "a"
   ]
  },
  {
   "cell_type": "markdown",
   "metadata": {},
   "source": [
    "**Run a FEM analysis using Calculix**\n",
    "\n",
    "The Assembly method `to_fem` creates an analysis directory called \"MyCantilever_calculix\" inside the `scratch`\n",
    "directory.\n",
    "\n",
    "By passing in `execute=True` calculix and code_aster will automatically start the analysis once the input files are\n",
    "created."
   ]
  },
  {
   "cell_type": "code",
   "execution_count": 3,
   "metadata": {
    "pycharm": {
     "name": "#%%\n"
    }
   },
   "outputs": [
    {
     "name": "stdout",
     "output_type": "stream",
     "text": [
      "Created a Calculix input deck at \"C:\\AibelProgs\\ADA\\scratch\\MyCantilever_calculix\"\n",
      "--------------------------------------------------------------------------------\n",
      "starting Calculix simulation \"MyCantilever_calculix\"\n",
      "Finished Calculix simulation \"MyCantilever_calculix\"\n",
      "--------------------------------------------------------------------------------\n"
     ]
    },
    {
     "name": "stderr",
     "output_type": "stream",
     "text": [
      "ERROR:root:FEM format \"calculix\" is not yet supported for results processing\n"
     ]
    },
    {
     "name": "stdout",
     "output_type": "stream",
     "text": [
      "\n"
     ]
    }
   ],
   "source": [
    "ccx_name = \"MyCantilever_calculix\"\n",
    "a.to_fem(ccx_name, \"calculix\", overwrite=True, execute=True)"
   ]
  },
  {
   "cell_type": "markdown",
   "metadata": {},
   "source": [
    "**Run a FEM analysis using Code Aster**"
   ]
  },
  {
   "cell_type": "code",
   "execution_count": 4,
   "metadata": {
    "pycharm": {
     "name": "#%%\n"
    }
   },
   "outputs": [
    {
     "name": "stdout",
     "output_type": "stream",
     "text": [
      "Created a Code_Aster input deck at \"C:\\AibelProgs\\ADA\\scratch\\MyCantilever_code_aster\"\n",
      "--------------------------------------------------------------------------------\n",
      "starting CodeAsterAnalysis simulation \"MyCantilever_code_aster\"\n",
      "Finished CodeAsterAnalysis simulation \"MyCantilever_code_aster\"\n",
      "--------------------------------------------------------------------------------\n"
     ]
    },
    {
     "data": {
      "application/vnd.jupyter.widget-view+json": {
       "model_id": "88bd311f91434a57829dc521678e48b6",
       "version_major": 2,
       "version_minor": 0
      },
      "text/plain": [
       "HBox(children=(VBox(children=(HBox(children=(Button(description='Geom', layout=Layout(height='auto', width='au…"
      ]
     },
     "metadata": {},
     "output_type": "display_data"
    },
    {
     "data": {
      "text/plain": [
       "Results(code_aster, MyCantilever_code_aster.rmed)"
      ]
     },
     "execution_count": 4,
     "metadata": {},
     "output_type": "execute_result"
    }
   ],
   "source": [
    "ca_name = \"MyCantilever_code_aster\"\n",
    "a.to_fem(ca_name, \"code_aster\", overwrite=True, execute=True)"
   ]
  },
  {
   "cell_type": "markdown",
   "metadata": {},
   "source": [
    "**Reading the analysis results using Python**\n",
    "\n",
    "* Calculix:\n",
    "The analysis result file (frd) was automatically converted to VTU using the\n",
    "[ccx2paraview](https://github.com/calculix/ccx2paraview) package.\n",
    "\n",
    "* Code Aster:\n",
    "The analysis result file (RMED) can be read directly using meshio.\n",
    "\n",
    "\n",
    "By using meshio to read the `VTU` and `RMED` files (from Calculix and Code Aster respectively),\n",
    "it is possible to access the result data such as the nodal displacements 'U' (as shown below)."
   ]
  },
  {
   "cell_type": "code",
   "execution_count": 5,
   "metadata": {
    "pycharm": {
     "name": "#%%\n"
    }
   },
   "outputs": [
    {
     "name": "stdout",
     "output_type": "stream",
     "text": [
      "[-0.00100044  0.00246466 -0.0202001 ]\n"
     ]
    }
   ],
   "source": [
    "from ada.config import Settings\n",
    "import meshio\n",
    "\n",
    "vtu = (Settings.scratch_dir / ccx_name / ccx_name).with_suffix(\".vtu\")\n",
    "ccx_mesh = meshio.read(vtu)\n",
    "\n",
    "# Displacements in [X, Y, Z] at point @ index=-1\n",
    "\n",
    "print(ccx_mesh.point_data['U'][-1])"
   ]
  },
  {
   "cell_type": "code",
   "execution_count": 6,
   "metadata": {
    "pycharm": {
     "name": "#%%\n"
    }
   },
   "outputs": [
    {
     "name": "stdout",
     "output_type": "stream",
     "text": [
      "[-0.0010598  -0.00010826 -0.02187207]\n"
     ]
    }
   ],
   "source": [
    "rmed = (Settings.scratch_dir / ca_name / ca_name).with_suffix(\".rmed\")\n",
    "ca_mesh = meshio.read(rmed, 'med')\n",
    "\n",
    "# Displacements in [X, Y, Z] at point @ index=-1\n",
    "print(ca_mesh.point_data['DISP[10] - 1'][-1][:3])"
   ]
  }
 ],
 "metadata": {
  "kernelspec": {
   "display_name": "Python 3 (ipykernel)",
   "language": "python",
   "name": "python3"
  },
  "language_info": {
   "codemirror_mode": {
    "name": "ipython",
    "version": 3
   },
   "file_extension": ".py",
   "mimetype": "text/x-python",
   "name": "python",
   "nbconvert_exporter": "python",
   "pygments_lexer": "ipython3",
   "version": "3.9.6"
  }
 },
 "nbformat": 4,
 "nbformat_minor": 1
}
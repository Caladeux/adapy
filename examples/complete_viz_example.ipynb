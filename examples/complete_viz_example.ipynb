{
 "cells": [
  {
   "cell_type": "markdown",
   "id": "massive-europe",
   "metadata": {},
   "source": [
    "# Design and Analyze a beam with holes\n",
    "\n",
    "The following example demonstrates how you can add penetrations to a beam using various primitives and finally export it to an IFC file"
   ]
  },
  {
   "cell_type": "code",
   "execution_count": 3,
   "id": "stable-scottish",
   "metadata": {
    "pycharm": {
     "name": "#%%\n"
    }
   },
   "outputs": [],
   "source": [
    "import numpy as np\n",
    "from ada import Assembly, Beam, Part, PrimBox, PrimCyl, PrimExtrude, Material, CarbonSteel\n",
    "from ada.fem import Bc, FemSet, Load, Step\n",
    "from ada.fem.io.mesh.recipes import create_beam_mesh\n",
    "from ada.fem.utils import get_beam_end_nodes"
   ]
  },
  {
   "cell_type": "markdown",
   "id": "mechanical-disposal",
   "metadata": {},
   "source": [
    "**The basic beam setup**\n",
    "\n",
    "The following code creates the following Assembly (and IFC) hierarchy\n",
    "\n",
    "    MyAssembly (IfSite)\n",
    "        MyPart (IfcBuildingStorey)\n",
    "            MyBeam (IfcBeam)"
   ]
  },
  {
   "cell_type": "code",
   "execution_count": 4,
   "id": "violent-rotation",
   "metadata": {
    "pycharm": {
     "name": "#%%\n"
    }
   },
   "outputs": [
    {
     "data": {
      "application/vnd.jupyter.widget-view+json": {
       "model_id": "b511047281c04e0d887fe7cd44f7cd87",
       "version_major": 2,
       "version_minor": 0
      },
      "text/plain": [
       "HBox(children=(VBox(children=(HBox(children=(Button(description='Geom', layout=Layout(height='auto', width='au…"
      ]
     },
     "metadata": {},
     "output_type": "display_data"
    },
    {
     "data": {
      "text/html": [],
      "text/plain": [
       "Assembly(\"MyAssembly\": Beams: 1, Plates: 0, Pipes: 0, Shapes: 0, Elements: 0, Nodes: 0)"
      ]
     },
     "execution_count": 4,
     "metadata": {},
     "output_type": "execute_result"
    }
   ],
   "source": [
    "bm = Beam(\"MyBeam\", (0, 0, 0), (1.5, 0, 0), \"IPE400\", Material('S420', CarbonSteel(\"S420\")))\n",
    "a = Assembly(\"MyAssembly\") / [Part(\"MyPart\") / bm]\n",
    "a"
   ]
  },
  {
   "cell_type": "markdown",
   "id": "artificial-vegetable",
   "metadata": {},
   "source": [
    "**Polygon Extrusions**"
   ]
  },
  {
   "cell_type": "code",
   "execution_count": 5,
   "id": "human-cowboy",
   "metadata": {
    "pycharm": {
     "name": "#%%\n"
    }
   },
   "outputs": [
    {
     "data": {
      "application/vnd.jupyter.widget-view+json": {
       "model_id": "4213ea3a09114ab09fc52182265cf49c",
       "version_major": 2,
       "version_minor": 0
      },
      "text/plain": [
       "HBox(children=(VBox(children=(HBox(children=(Button(description='Geom', layout=Layout(height='auto', width='au…"
      ]
     },
     "metadata": {},
     "output_type": "display_data"
    },
    {
     "data": {
      "text/html": [],
      "text/plain": [
       "Beam(id: 0Ds0yek8eHwuMZyDM$DI$q, Name: MyBeam\n",
       "N1: Node([0.0, 0.0, 0.0], 1), N2: Node([1.5, 0.0, 0.0], 2)\n",
       "Section: Section(IPE400, IPE, h: 0.4, w_btn: 0.18, w_top: 0.18, t_fbtn: 0.0135, t_ftop: 0.0135, t_w: 0.0086)\n",
       "Material: Material(Name: \"S355\" Material Model: \"CarbonSteel(E:2.100E+11, sig_y:3.550E+08, rho:7.850E+03, plasticity_model:None))"
      ]
     },
     "execution_count": 5,
     "metadata": {},
     "output_type": "execute_result"
    }
   ],
   "source": [
    "h = 0.2\n",
    "r = 0.02\n",
    "\n",
    "normal = [0, 1, 0]\n",
    "xdir = [-1, 0, 0]\n",
    "\n",
    "\n",
    "origin = np.array([0.2, -0.1, -0.1])\n",
    "points = [(0, 0), (0.1, 0), (0.05, 0.1)]\n",
    "\n",
    "poly1 = bm.add_penetration(PrimExtrude(\"Poly1\", points, h, normal, origin, xdir))\n",
    "bm"
   ]
  },
  {
   "cell_type": "code",
   "execution_count": 6,
   "id": "attempted-moscow",
   "metadata": {
    "pycharm": {
     "name": "#%%\n"
    }
   },
   "outputs": [
    {
     "data": {
      "application/vnd.jupyter.widget-view+json": {
       "model_id": "534656b294174145bf9619c384e96e1c",
       "version_major": 2,
       "version_minor": 0
      },
      "text/plain": [
       "HBox(children=(VBox(children=(HBox(children=(Button(description='Geom', layout=Layout(height='auto', width='au…"
      ]
     },
     "metadata": {},
     "output_type": "display_data"
    },
    {
     "data": {
      "text/html": [],
      "text/plain": [
       "Beam(id: 0Ds0yek8eHwuMZyDM$DI$q, Name: MyBeam\n",
       "N1: Node([0.0, 0.0, 0.0], 1), N2: Node([1.5, 0.0, 0.0], 2)\n",
       "Section: Section(IPE400, IPE, h: 0.4, w_btn: 0.18, w_top: 0.18, t_fbtn: 0.0135, t_ftop: 0.0135, t_w: 0.0086)\n",
       "Material: Material(Name: \"S355\" Material Model: \"CarbonSteel(E:2.100E+11, sig_y:3.550E+08, rho:7.850E+03, plasticity_model:None))"
      ]
     },
     "execution_count": 6,
     "metadata": {},
     "output_type": "execute_result"
    }
   ],
   "source": [
    "origin += np.array([0.2, 0, 0])\n",
    "points = [(0, 0, r), (0.1, 0, r), (0.05, 0.1, r)]\n",
    "\n",
    "poly2 = bm.add_penetration(PrimExtrude(\"Poly2\", points, h, normal, origin, xdir))\n",
    "bm"
   ]
  },
  {
   "cell_type": "code",
   "execution_count": 7,
   "id": "broad-liverpool",
   "metadata": {
    "pycharm": {
     "name": "#%%\n"
    }
   },
   "outputs": [
    {
     "data": {
      "application/vnd.jupyter.widget-view+json": {
       "model_id": "42cc1f8c61ad4b5abf47e262fd7b9892",
       "version_major": 2,
       "version_minor": 0
      },
      "text/plain": [
       "HBox(children=(VBox(children=(HBox(children=(Button(description='Geom', layout=Layout(height='auto', width='au…"
      ]
     },
     "metadata": {},
     "output_type": "display_data"
    },
    {
     "data": {
      "text/html": [],
      "text/plain": [
       "Beam(id: 0Ds0yek8eHwuMZyDM$DI$q, Name: MyBeam\n",
       "N1: Node([0.0, 0.0, 0.0], 1), N2: Node([1.5, 0.0, 0.0], 2)\n",
       "Section: Section(IPE400, IPE, h: 0.4, w_btn: 0.18, w_top: 0.18, t_fbtn: 0.0135, t_ftop: 0.0135, t_w: 0.0086)\n",
       "Material: Material(Name: \"S355\" Material Model: \"CarbonSteel(E:2.100E+11, sig_y:3.550E+08, rho:7.850E+03, plasticity_model:None))"
      ]
     },
     "execution_count": 7,
     "metadata": {},
     "output_type": "execute_result"
    }
   ],
   "source": [
    "origin += np.array([0.2, 0, 0])\n",
    "points = [(0, 0, r), (0.1, 0, r), (0.1, 0.2, r), (0.0, 0.2, r)]\n",
    "\n",
    "poly3 = bm.add_penetration(PrimExtrude(\"Poly3\", points, h, normal, origin, xdir))\n",
    "bm"
   ]
  },
  {
   "cell_type": "code",
   "execution_count": 8,
   "id": "liberal-afternoon",
   "metadata": {
    "pycharm": {
     "name": "#%%\n"
    }
   },
   "outputs": [
    {
     "data": {
      "application/vnd.jupyter.widget-view+json": {
       "model_id": "2a450ee7c68f47edab5bb331bd39cbec",
       "version_major": 2,
       "version_minor": 0
      },
      "text/plain": [
       "HBox(children=(VBox(children=(HBox(children=(Button(description='Geom', layout=Layout(height='auto', width='au…"
      ]
     },
     "metadata": {},
     "output_type": "display_data"
    },
    {
     "data": {
      "text/html": [],
      "text/plain": [
       "Beam(id: 0Ds0yek8eHwuMZyDM$DI$q, Name: MyBeam\n",
       "N1: Node([0.0, 0.0, 0.0], 1), N2: Node([1.5, 0.0, 0.0], 2)\n",
       "Section: Section(IPE400, IPE, h: 0.4, w_btn: 0.18, w_top: 0.18, t_fbtn: 0.0135, t_ftop: 0.0135, t_w: 0.0086)\n",
       "Material: Material(Name: \"S355\" Material Model: \"CarbonSteel(E:2.100E+11, sig_y:3.550E+08, rho:7.850E+03, plasticity_model:None))"
      ]
     },
     "execution_count": 8,
     "metadata": {},
     "output_type": "execute_result"
    }
   ],
   "source": [
    "# Cylinder Extrude\n",
    "x = origin[0] + 0.2\n",
    "\n",
    "cyl = bm.add_penetration(PrimCyl(\"cylinder\", (x, -0.1, 0), (x, 0.1, 0), 0.1))\n",
    "bm"
   ]
  },
  {
   "cell_type": "code",
   "execution_count": 9,
   "id": "sustainable-burke",
   "metadata": {
    "pycharm": {
     "name": "#%%\n"
    }
   },
   "outputs": [
    {
     "data": {
      "application/vnd.jupyter.widget-view+json": {
       "model_id": "d9e78e791349494c9f79ab7d18dae7df",
       "version_major": 2,
       "version_minor": 0
      },
      "text/plain": [
       "HBox(children=(VBox(children=(HBox(children=(Button(description='Geom', layout=Layout(height='auto', width='au…"
      ]
     },
     "metadata": {},
     "output_type": "display_data"
    },
    {
     "data": {
      "text/html": [],
      "text/plain": [
       "Beam(id: 0Ds0yek8eHwuMZyDM$DI$q, Name: MyBeam\n",
       "N1: Node([0.0, 0.0, 0.0], 1), N2: Node([1.5, 0.0, 0.0], 2)\n",
       "Section: Section(IPE400, IPE, h: 0.4, w_btn: 0.18, w_top: 0.18, t_fbtn: 0.0135, t_ftop: 0.0135, t_w: 0.0086)\n",
       "Material: Material(Name: \"S355\" Material Model: \"CarbonSteel(E:2.100E+11, sig_y:3.550E+08, rho:7.850E+03, plasticity_model:None))"
      ]
     },
     "execution_count": 9,
     "metadata": {},
     "output_type": "execute_result"
    }
   ],
   "source": [
    "# Box Extrude\n",
    "x += 0.2\n",
    "\n",
    "box = bm.add_penetration(PrimBox(\"box\", (x, -0.1, -0.1), (x + 0.2, 0.1, 0.1)))\n",
    "bm"
   ]
  },
  {
   "cell_type": "code",
   "execution_count": 10,
   "id": "collective-cliff",
   "metadata": {
    "pycharm": {
     "name": "#%%\n"
    }
   },
   "outputs": [
    {
     "name": "stdout",
     "output_type": "stream",
     "text": [
      "ifc file created at \"..\\output\\MyBeamWithHoles.ifc\"\n"
     ]
    },
    {
     "data": {
      "application/vnd.jupyter.widget-view+json": {
       "model_id": "10780e207ebb428a9356089754c45070",
       "version_major": 2,
       "version_minor": 0
      },
      "text/plain": [
       "HBox(children=(VBox(children=(HBox(children=(Button(description='Geom', layout=Layout(height='auto', width='au…"
      ]
     },
     "metadata": {},
     "output_type": "display_data"
    },
    {
     "data": {
      "text/html": [],
      "text/plain": [
       "Assembly(\"MyAssembly\": Beams: 1, Plates: 0, Pipes: 0, Shapes: 0, Elements: 0, Nodes: 0)"
      ]
     },
     "execution_count": 10,
     "metadata": {},
     "output_type": "execute_result"
    }
   ],
   "source": [
    "# Export IFC to the Home folder\n",
    "a.to_ifc('../output/MyBeamWithHoles.ifc')\n",
    "a"
   ]
  },
  {
   "cell_type": "code",
   "execution_count": 11,
   "id": "mental-hughes",
   "metadata": {
    "pycharm": {
     "name": "#%%\n"
    }
   },
   "outputs": [
    {
     "name": "stdout",
     "output_type": "stream",
     "text": [
      "step file created at \"C:\\Users\\ofskrand\\ADA\\temp\\MyBeam_0O5EXOk8eHwv9oyDM$DI$q.stp\"\n"
     ]
    },
    {
     "data": {
      "application/vnd.jupyter.widget-view+json": {
       "model_id": "86831ee36f3c4bfc91e7ccdffd5cc4f9",
       "version_major": 2,
       "version_minor": 0
      },
      "text/plain": [
       "HBox(children=(VBox(children=(HBox(children=(Button(description='Geom', layout=Layout(height='auto', width='au…"
      ]
     },
     "metadata": {},
     "output_type": "display_data"
    },
    {
     "data": {
      "text/html": [],
      "text/plain": [
       "Assembly(\"MyAssembly\": Beams: 1, Plates: 0, Pipes: 0, Shapes: 0, Elements: 513, Nodes: 309)"
      ]
     },
     "execution_count": 11,
     "metadata": {},
     "output_type": "execute_result"
    }
   ],
   "source": [
    "# Create a FEM analysis of the beam as a cantilever subjected to gravity loads\n",
    "p = a.get_part(\"MyPart\")\n",
    "create_beam_mesh(bm, p.fem, \"shell\")\n",
    "\n",
    "# Add a set containing ALL elements (necessary for Calculix loads).\n",
    "fs = p.fem.add_set(FemSet(\"Eall\", [el for el in p.fem.elements], \"elset\"))\n",
    "\n",
    "step = a.fem.add_step(Step(\"gravity\", \"static\", nl_geom=True, init_incr=100.0, total_time=100.0))\n",
    "step.add_load(Load(\"grav\", \"gravity\", -9.81 * 800, fem_set=fs))\n",
    "\n",
    "fix_set = p.fem.add_set(FemSet(\"bc_nodes\", get_beam_end_nodes(bm), \"nset\"))\n",
    "a.fem.add_bc(Bc(\"Fixed\", fix_set, [1, 2, 3]))\n",
    "\n",
    "a"
   ]
  },
  {
   "cell_type": "code",
   "execution_count": 12,
   "id": "protected-origin",
   "metadata": {
    "pycharm": {
     "name": "#%%\n"
    }
   },
   "outputs": [
    {
     "name": "stdout",
     "output_type": "stream",
     "text": [
      "Exporting to \"code_aster\" using to_fem\n",
      "creating: MyCantilever_code_aster\n"
     ]
    }
   ],
   "source": [
    "res = a.to_fem(\"MyCantilever_code_aster\", \"code_aster\", execute=True)"
   ]
  },
  {
   "cell_type": "code",
   "execution_count": null,
   "id": "unsigned-manchester",
   "metadata": {},
   "outputs": [],
   "source": [
    "res"
   ]
  }
 ],
 "metadata": {
  "kernelspec": {
   "display_name": "Python 3",
   "language": "python",
   "name": "python3"
  },
  "language_info": {
   "codemirror_mode": {
    "name": "ipython",
    "version": 3
   },
   "file_extension": ".py",
   "mimetype": "text/x-python",
   "name": "python",
   "nbconvert_exporter": "python",
   "pygments_lexer": "ipython3",
   "version": "3.8.5"
  }
 },
 "nbformat": 4,
 "nbformat_minor": 5
}